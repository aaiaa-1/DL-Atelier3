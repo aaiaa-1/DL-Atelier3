{
 "cells": [
  {
   "cell_type": "code",
   "execution_count": 3,
   "id": "aaad6fd5-3b7e-4713-bbfe-87fd6f004adf",
   "metadata": {
    "id": "aaad6fd5-3b7e-4713-bbfe-87fd6f004adf"
   },
   "outputs": [],
   "source": [
    "import pandas as pd\n",
    "import matplotlib.pyplot as plt\n",
    "import numpy as np\n",
    "import os\n",
    "import csv\n",
    "import nltk\n",
    "from pyarabic.araby import tokenize, is_arabicrange, strip_tashkeel\n",
    "import string\n",
    "from nltk.corpus import stopwords\n",
    "import re"
   ]
  },
  {
   "cell_type": "code",
   "execution_count": 4,
   "id": "71b5a715-0303-4c7b-9677-a051447d3b4c",
   "metadata": {
    "colab": {
     "base_uri": "https://localhost:8080/"
    },
    "id": "71b5a715-0303-4c7b-9677-a051447d3b4c",
    "outputId": "de5014a6-13b1-4387-bfa1-1b0cad390db5"
   },
   "outputs": [
    {
     "name": "stderr",
     "output_type": "stream",
     "text": [
      "[nltk_data] Downloading package punkt to /root/nltk_data...\n",
      "[nltk_data]   Unzipping tokenizers/punkt.zip.\n",
      "[nltk_data] Downloading package stopwords to /root/nltk_data...\n",
      "[nltk_data]   Unzipping corpora/stopwords.zip.\n"
     ]
    },
    {
     "data": {
      "text/plain": [
       "True"
      ]
     },
     "execution_count": 4,
     "metadata": {},
     "output_type": "execute_result"
    }
   ],
   "source": [
    "nltk.download('punkt')\n",
    "nltk.download('stopwords')"
   ]
  },
  {
   "cell_type": "code",
   "execution_count": 5,
   "id": "61b1c517-8177-4568-a662-f32ae3f89f92",
   "metadata": {
    "colab": {
     "base_uri": "https://localhost:8080/",
     "height": 206
    },
    "id": "61b1c517-8177-4568-a662-f32ae3f89f92",
    "outputId": "56e292e0-5ab7-4556-fc26-bae9c1810a7b"
   },
   "outputs": [
    {
     "data": {
      "application/vnd.google.colaboratory.intrinsic+json": {
       "summary": "{\n  \"name\": \"dataset\",\n  \"rows\": 1324,\n  \"fields\": [\n    {\n      \"column\": \"Text\",\n      \"properties\": {\n        \"dtype\": \"string\",\n        \"num_unique_values\": 1211,\n        \"samples\": [\n          \"\\u064a\\u0648\\u0645 \\u062c\\u0645\\u064a\\u0644\",\n          \"\\u0627\\u062e\\u0631 \\u0630\\u0643\\u0631\\u0649\",\n          \"\\u0627\\u0644\\u0645\\u0648\\u0638\\u0641\\u064a\\u0646 \\u0641\\u064a\\u0647\\u0645 \\u0628\\u0637\\u0621 \\u0645\\u0648 \\u0637\\u0628\\u064a\\u0639\\u064a \\u0648\\u0639\\u062f\\u0645 \\u0648\\u062c\\u0648\\u062f \\u0635\\u0631\\u0641 \\u0641\\u064a \\u0627\\u0644\\u0627\\u0633\\u062a\\u0642\\u0628\\u0627\\u0644 \\u0644\\u0627 \\u0627\\u0631\\u062c\\u0627\\u0639 \\u0627\\u0644\\u0645\\u0628\\u0627\\u0644\\u063a\"\n        ],\n        \"semantic_type\": \"\",\n        \"description\": \"\"\n      }\n    },\n    {\n      \"column\": \"Score\",\n      \"properties\": {\n        \"dtype\": \"category\",\n        \"num_unique_values\": 10,\n        \"samples\": [\n          \"2,0\",\n          \"9,0\",\n          \"4,0\"\n        ],\n        \"semantic_type\": \"\",\n        \"description\": \"\"\n      }\n    }\n  ]\n}",
       "type": "dataframe",
       "variable_name": "dataset"
      },
      "text/html": [
       "\n",
       "  <div id=\"df-3f373157-0279-4926-871c-21588d917fd4\" class=\"colab-df-container\">\n",
       "    <div>\n",
       "<style scoped>\n",
       "    .dataframe tbody tr th:only-of-type {\n",
       "        vertical-align: middle;\n",
       "    }\n",
       "\n",
       "    .dataframe tbody tr th {\n",
       "        vertical-align: top;\n",
       "    }\n",
       "\n",
       "    .dataframe thead th {\n",
       "        text-align: right;\n",
       "    }\n",
       "</style>\n",
       "<table border=\"1\" class=\"dataframe\">\n",
       "  <thead>\n",
       "    <tr style=\"text-align: right;\">\n",
       "      <th></th>\n",
       "      <th>Text</th>\n",
       "      <th>Score</th>\n",
       "    </tr>\n",
       "  </thead>\n",
       "  <tbody>\n",
       "    <tr>\n",
       "      <th>0</th>\n",
       "      <td>الموظفه في الاستقبال جدا رائعه لها سمر خاص ريم...</td>\n",
       "      <td>8,0</td>\n",
       "    </tr>\n",
       "    <tr>\n",
       "      <th>1</th>\n",
       "      <td>فندق ممتاز ونظيف ، وموقعه ممتاز ، ويوجد به موا...</td>\n",
       "      <td>9,0</td>\n",
       "    </tr>\n",
       "    <tr>\n",
       "      <th>2</th>\n",
       "      <td>شكرا لكم</td>\n",
       "      <td>8,0</td>\n",
       "    </tr>\n",
       "    <tr>\n",
       "      <th>3</th>\n",
       "      <td>المكان جميل للاقامه</td>\n",
       "      <td>8,0</td>\n",
       "    </tr>\n",
       "    <tr>\n",
       "      <th>4</th>\n",
       "      <td>جيده ومريحه نظيفه الفرش والمرتبه والوسادات مري...</td>\n",
       "      <td>9,0</td>\n",
       "    </tr>\n",
       "  </tbody>\n",
       "</table>\n",
       "</div>\n",
       "    <div class=\"colab-df-buttons\">\n",
       "\n",
       "  <div class=\"colab-df-container\">\n",
       "    <button class=\"colab-df-convert\" onclick=\"convertToInteractive('df-3f373157-0279-4926-871c-21588d917fd4')\"\n",
       "            title=\"Convert this dataframe to an interactive table.\"\n",
       "            style=\"display:none;\">\n",
       "\n",
       "  <svg xmlns=\"http://www.w3.org/2000/svg\" height=\"24px\" viewBox=\"0 -960 960 960\">\n",
       "    <path d=\"M120-120v-720h720v720H120Zm60-500h600v-160H180v160Zm220 220h160v-160H400v160Zm0 220h160v-160H400v160ZM180-400h160v-160H180v160Zm440 0h160v-160H620v160ZM180-180h160v-160H180v160Zm440 0h160v-160H620v160Z\"/>\n",
       "  </svg>\n",
       "    </button>\n",
       "\n",
       "  <style>\n",
       "    .colab-df-container {\n",
       "      display:flex;\n",
       "      gap: 12px;\n",
       "    }\n",
       "\n",
       "    .colab-df-convert {\n",
       "      background-color: #E8F0FE;\n",
       "      border: none;\n",
       "      border-radius: 50%;\n",
       "      cursor: pointer;\n",
       "      display: none;\n",
       "      fill: #1967D2;\n",
       "      height: 32px;\n",
       "      padding: 0 0 0 0;\n",
       "      width: 32px;\n",
       "    }\n",
       "\n",
       "    .colab-df-convert:hover {\n",
       "      background-color: #E2EBFA;\n",
       "      box-shadow: 0px 1px 2px rgba(60, 64, 67, 0.3), 0px 1px 3px 1px rgba(60, 64, 67, 0.15);\n",
       "      fill: #174EA6;\n",
       "    }\n",
       "\n",
       "    .colab-df-buttons div {\n",
       "      margin-bottom: 4px;\n",
       "    }\n",
       "\n",
       "    [theme=dark] .colab-df-convert {\n",
       "      background-color: #3B4455;\n",
       "      fill: #D2E3FC;\n",
       "    }\n",
       "\n",
       "    [theme=dark] .colab-df-convert:hover {\n",
       "      background-color: #434B5C;\n",
       "      box-shadow: 0px 1px 3px 1px rgba(0, 0, 0, 0.15);\n",
       "      filter: drop-shadow(0px 1px 2px rgba(0, 0, 0, 0.3));\n",
       "      fill: #FFFFFF;\n",
       "    }\n",
       "  </style>\n",
       "\n",
       "    <script>\n",
       "      const buttonEl =\n",
       "        document.querySelector('#df-3f373157-0279-4926-871c-21588d917fd4 button.colab-df-convert');\n",
       "      buttonEl.style.display =\n",
       "        google.colab.kernel.accessAllowed ? 'block' : 'none';\n",
       "\n",
       "      async function convertToInteractive(key) {\n",
       "        const element = document.querySelector('#df-3f373157-0279-4926-871c-21588d917fd4');\n",
       "        const dataTable =\n",
       "          await google.colab.kernel.invokeFunction('convertToInteractive',\n",
       "                                                    [key], {});\n",
       "        if (!dataTable) return;\n",
       "\n",
       "        const docLinkHtml = 'Like what you see? Visit the ' +\n",
       "          '<a target=\"_blank\" href=https://colab.research.google.com/notebooks/data_table.ipynb>data table notebook</a>'\n",
       "          + ' to learn more about interactive tables.';\n",
       "        element.innerHTML = '';\n",
       "        dataTable['output_type'] = 'display_data';\n",
       "        await google.colab.output.renderOutput(dataTable, element);\n",
       "        const docLink = document.createElement('div');\n",
       "        docLink.innerHTML = docLinkHtml;\n",
       "        element.appendChild(docLink);\n",
       "      }\n",
       "    </script>\n",
       "  </div>\n",
       "\n",
       "\n",
       "<div id=\"df-0b23525e-bad6-4d12-ac58-abb1c220afb4\">\n",
       "  <button class=\"colab-df-quickchart\" onclick=\"quickchart('df-0b23525e-bad6-4d12-ac58-abb1c220afb4')\"\n",
       "            title=\"Suggest charts\"\n",
       "            style=\"display:none;\">\n",
       "\n",
       "<svg xmlns=\"http://www.w3.org/2000/svg\" height=\"24px\"viewBox=\"0 0 24 24\"\n",
       "     width=\"24px\">\n",
       "    <g>\n",
       "        <path d=\"M19 3H5c-1.1 0-2 .9-2 2v14c0 1.1.9 2 2 2h14c1.1 0 2-.9 2-2V5c0-1.1-.9-2-2-2zM9 17H7v-7h2v7zm4 0h-2V7h2v10zm4 0h-2v-4h2v4z\"/>\n",
       "    </g>\n",
       "</svg>\n",
       "  </button>\n",
       "\n",
       "<style>\n",
       "  .colab-df-quickchart {\n",
       "      --bg-color: #E8F0FE;\n",
       "      --fill-color: #1967D2;\n",
       "      --hover-bg-color: #E2EBFA;\n",
       "      --hover-fill-color: #174EA6;\n",
       "      --disabled-fill-color: #AAA;\n",
       "      --disabled-bg-color: #DDD;\n",
       "  }\n",
       "\n",
       "  [theme=dark] .colab-df-quickchart {\n",
       "      --bg-color: #3B4455;\n",
       "      --fill-color: #D2E3FC;\n",
       "      --hover-bg-color: #434B5C;\n",
       "      --hover-fill-color: #FFFFFF;\n",
       "      --disabled-bg-color: #3B4455;\n",
       "      --disabled-fill-color: #666;\n",
       "  }\n",
       "\n",
       "  .colab-df-quickchart {\n",
       "    background-color: var(--bg-color);\n",
       "    border: none;\n",
       "    border-radius: 50%;\n",
       "    cursor: pointer;\n",
       "    display: none;\n",
       "    fill: var(--fill-color);\n",
       "    height: 32px;\n",
       "    padding: 0;\n",
       "    width: 32px;\n",
       "  }\n",
       "\n",
       "  .colab-df-quickchart:hover {\n",
       "    background-color: var(--hover-bg-color);\n",
       "    box-shadow: 0 1px 2px rgba(60, 64, 67, 0.3), 0 1px 3px 1px rgba(60, 64, 67, 0.15);\n",
       "    fill: var(--button-hover-fill-color);\n",
       "  }\n",
       "\n",
       "  .colab-df-quickchart-complete:disabled,\n",
       "  .colab-df-quickchart-complete:disabled:hover {\n",
       "    background-color: var(--disabled-bg-color);\n",
       "    fill: var(--disabled-fill-color);\n",
       "    box-shadow: none;\n",
       "  }\n",
       "\n",
       "  .colab-df-spinner {\n",
       "    border: 2px solid var(--fill-color);\n",
       "    border-color: transparent;\n",
       "    border-bottom-color: var(--fill-color);\n",
       "    animation:\n",
       "      spin 1s steps(1) infinite;\n",
       "  }\n",
       "\n",
       "  @keyframes spin {\n",
       "    0% {\n",
       "      border-color: transparent;\n",
       "      border-bottom-color: var(--fill-color);\n",
       "      border-left-color: var(--fill-color);\n",
       "    }\n",
       "    20% {\n",
       "      border-color: transparent;\n",
       "      border-left-color: var(--fill-color);\n",
       "      border-top-color: var(--fill-color);\n",
       "    }\n",
       "    30% {\n",
       "      border-color: transparent;\n",
       "      border-left-color: var(--fill-color);\n",
       "      border-top-color: var(--fill-color);\n",
       "      border-right-color: var(--fill-color);\n",
       "    }\n",
       "    40% {\n",
       "      border-color: transparent;\n",
       "      border-right-color: var(--fill-color);\n",
       "      border-top-color: var(--fill-color);\n",
       "    }\n",
       "    60% {\n",
       "      border-color: transparent;\n",
       "      border-right-color: var(--fill-color);\n",
       "    }\n",
       "    80% {\n",
       "      border-color: transparent;\n",
       "      border-right-color: var(--fill-color);\n",
       "      border-bottom-color: var(--fill-color);\n",
       "    }\n",
       "    90% {\n",
       "      border-color: transparent;\n",
       "      border-bottom-color: var(--fill-color);\n",
       "    }\n",
       "  }\n",
       "</style>\n",
       "\n",
       "  <script>\n",
       "    async function quickchart(key) {\n",
       "      const quickchartButtonEl =\n",
       "        document.querySelector('#' + key + ' button');\n",
       "      quickchartButtonEl.disabled = true;  // To prevent multiple clicks.\n",
       "      quickchartButtonEl.classList.add('colab-df-spinner');\n",
       "      try {\n",
       "        const charts = await google.colab.kernel.invokeFunction(\n",
       "            'suggestCharts', [key], {});\n",
       "      } catch (error) {\n",
       "        console.error('Error during call to suggestCharts:', error);\n",
       "      }\n",
       "      quickchartButtonEl.classList.remove('colab-df-spinner');\n",
       "      quickchartButtonEl.classList.add('colab-df-quickchart-complete');\n",
       "    }\n",
       "    (() => {\n",
       "      let quickchartButtonEl =\n",
       "        document.querySelector('#df-0b23525e-bad6-4d12-ac58-abb1c220afb4 button');\n",
       "      quickchartButtonEl.style.display =\n",
       "        google.colab.kernel.accessAllowed ? 'block' : 'none';\n",
       "    })();\n",
       "  </script>\n",
       "</div>\n",
       "    </div>\n",
       "  </div>\n"
      ],
      "text/plain": [
       "                                                Text Score\n",
       "0  الموظفه في الاستقبال جدا رائعه لها سمر خاص ريم...   8,0\n",
       "1  فندق ممتاز ونظيف ، وموقعه ممتاز ، ويوجد به موا...   9,0\n",
       "2                                           شكرا لكم   8,0\n",
       "3                                المكان جميل للاقامه   8,0\n",
       "4  جيده ومريحه نظيفه الفرش والمرتبه والوسادات مري...   9,0"
      ]
     },
     "execution_count": 5,
     "metadata": {},
     "output_type": "execute_result"
    }
   ],
   "source": [
    "dataset= pd.read_csv('text-analysis-dataset.csv')\n",
    "dataset.head()"
   ]
  },
  {
   "cell_type": "code",
   "execution_count": 6,
   "id": "2053908f-650c-42e8-8365-c6d6c956b5c2",
   "metadata": {
    "colab": {
     "base_uri": "https://localhost:8080/"
    },
    "id": "2053908f-650c-42e8-8365-c6d6c956b5c2",
    "outputId": "96356072-261d-431b-ea99-c981aa93d6cb"
   },
   "outputs": [
    {
     "data": {
      "text/plain": [
       "(1324, 2)"
      ]
     },
     "execution_count": 6,
     "metadata": {},
     "output_type": "execute_result"
    }
   ],
   "source": [
    "dataset.shape"
   ]
  },
  {
   "cell_type": "code",
   "execution_count": 7,
   "id": "fec6816d-d5f7-4990-a779-44137cd382b9",
   "metadata": {
    "colab": {
     "base_uri": "https://localhost:8080/",
     "height": 564
    },
    "id": "fec6816d-d5f7-4990-a779-44137cd382b9",
    "outputId": "913e3928-d5d0-46b2-b8fe-7437d22851ce"
   },
   "outputs": [
    {
     "data": {
      "image/png": "[encoded data removed]",
      "text/plain": [
       "<Figure size 800x600 with 1 Axes>"
      ]
     },
     "metadata": {},
     "output_type": "display_data"
    }
   ],
   "source": [
    "label_counts = dataset['Score'].value_counts()\n",
    "\n",
    "plt.figure(figsize=(8, 6))\n",
    "plt.bar(label_counts.index, label_counts)\n",
    "plt.title('Label Distribution')\n",
    "plt.xlabel('Label')\n",
    "plt.ylabel('Count')\n",
    "plt.show()"
   ]
  },
  {
   "cell_type": "code",
   "execution_count": 8,
   "id": "e8f1cd56-130a-4546-b800-b3bf56047922",
   "metadata": {
    "colab": {
     "base_uri": "https://localhost:8080/",
     "height": 521
    },
    "id": "e8f1cd56-130a-4546-b800-b3bf56047922",
    "outputId": "144df296-de78-4a40-cd1a-5c4a282bc08c"
   },
   "outputs": [
    {
     "data": {
      "image/png": "[encoded data removed]",
      "text/plain": [
       "<Figure size 800x600 with 1 Axes>"
      ]
     },
     "metadata": {},
     "output_type": "display_data"
    }
   ],
   "source": [
    "plt.figure(figsize=(8, 6))\n",
    "plt.pie(label_counts, labels=label_counts.index, autopct='%1.1f%%', startangle=140)\n",
    "plt.title('Label Distribution')\n",
    "plt.axis('equal')\n",
    "plt.show()"
   ]
  },
  {
   "cell_type": "markdown",
   "id": "c7c25823-c932-40e4-a196-d7761f707014",
   "metadata": {
    "id": "c7c25823-c932-40e4-a196-d7761f707014"
   },
   "source": [
    "# Data Cleaning"
   ]
  },
  {
   "cell_type": "code",
   "execution_count": 9,
   "id": "72b232a9-1982-403c-9e9d-8b11cf637653",
   "metadata": {
    "colab": {
     "base_uri": "https://localhost:8080/"
    },
    "id": "72b232a9-1982-403c-9e9d-8b11cf637653",
    "outputId": "587a853c-877d-4ba0-856d-7bd647603303"
   },
   "outputs": [
    {
     "data": {
      "text/plain": [
       "(1324, 2)"
      ]
     },
     "execution_count": 9,
     "metadata": {},
     "output_type": "execute_result"
    }
   ],
   "source": [
    "dataset = dataset.dropna()\n",
    "dataset.shape"
   ]
  },
  {
   "cell_type": "code",
   "execution_count": 10,
   "id": "343e1d5c-ef52-4ad5-89a8-8d6b37dc8a47",
   "metadata": {
    "id": "343e1d5c-ef52-4ad5-89a8-8d6b37dc8a47"
   },
   "outputs": [],
   "source": [
    "def ponctuation(phrase):\n",
    "    phrase2=\" \"\n",
    "    arabic_punctuations = '''`.‏،÷×؛<>_()*&^%][ـ،/:\"؟.,'{}~¦+|!”…“–ـ'''\n",
    "    english_punctuations = string.punctuation\n",
    "    punctuations_list = arabic_punctuations + english_punctuations\n",
    "    newPhrase=phrase.translate(str.maketrans(punctuations_list, ' '*len(punctuations_list)))\n",
    "    newPhrase=re.sub('[0-9]',' ',phrase)\n",
    "    newPhrase=re.sub('[\\n,\\t,\\r,\\n\\n,\\u200f]',' ',newPhrase)\n",
    "    liste=newPhrase.split()\n",
    "    return phrase2.join(liste)"
   ]
  },
  {
   "cell_type": "code",
   "execution_count": 11,
   "id": "6e30aba7-9132-4433-bac2-9d8b4291d913",
   "metadata": {
    "id": "6e30aba7-9132-4433-bac2-9d8b4291d913"
   },
   "outputs": [],
   "source": [
    "def ponc_noarabic(text):\n",
    "    p=\" \"\n",
    "    COMMA            = u'\\u060C'\n",
    "    SEMICOLON        = u'\\u061B'\n",
    "    QUESTION         = u'\\u061F'\n",
    "    HAMZA            = u'\\u0621'\n",
    "    ALEF_MADDA       = u'\\u0622'\n",
    "    ALEF_HAMZA_ABOVE = u'\\u0623'\n",
    "    list1=tokenize(text, conditions=is_arabicrange, morphs=strip_tashkeel)\n",
    "    unwanted_num = {COMMA,SEMICOLON,QUESTION,HAMZA,ALEF_MADDA,ALEF_HAMZA_ABOVE}\n",
    "    list1 = [ele for ele in list1 if ele not in unwanted_num]\n",
    "    return p.join(list1)"
   ]
  },
  {
   "cell_type": "code",
   "execution_count": 12,
   "id": "5e08bc3d-7a56-4cd9-9f2d-8f2d776e2134",
   "metadata": {
    "id": "5e08bc3d-7a56-4cd9-9f2d-8f2d776e2134"
   },
   "outputs": [],
   "source": [
    "def clean_data(phrase):\n",
    "    phrase2= \" \";a=[]\n",
    "    newPhrase=phrase.translate(str.maketrans(string.punctuation, ' '*len(string.punctuation)))\n",
    "    newPhrase=re.sub('[0-9]',' ',newPhrase)\n",
    "    liste=newPhrase.split()\n",
    "    stops = set(stopwords.words('arabic'))\n",
    "    stops={i.translate(str.maketrans(\"'\",\" \",string.punctuation)) for i in stops}\n",
    "    p=[\"لكن\",\"لا\",\"لم\"]\n",
    "    stop=stops.difference(p)\n",
    "    for i in liste:\n",
    "        if i not in stop and i not in a:\n",
    "            a.append(i)\n",
    "    return phrase2.join(a)"
   ]
  },
  {
   "cell_type": "code",
   "execution_count": 13,
   "id": "6b3a325c-f307-4dbc-a625-de9837b8c8d1",
   "metadata": {
    "id": "6b3a325c-f307-4dbc-a625-de9837b8c8d1"
   },
   "outputs": [],
   "source": [
    "def arabic_clean(text):\n",
    "    text=ponctuation(text)\n",
    "    text=ponc_noarabic(text)\n",
    "    text=clean_data(text)\n",
    "    return text"
   ]
  },
  {
   "cell_type": "code",
   "execution_count": 14,
   "id": "96c8acc2-db26-4511-9064-0e10b55c7bf3",
   "metadata": {
    "id": "96c8acc2-db26-4511-9064-0e10b55c7bf3"
   },
   "outputs": [],
   "source": [
    "dataset['Text'] =dataset['Text'].apply(lambda x: arabic_clean(x))"
   ]
  },
  {
   "cell_type": "code",
   "execution_count": 15,
   "id": "91585122-1466-4c76-b163-da4864666286",
   "metadata": {
    "colab": {
     "base_uri": "https://localhost:8080/",
     "height": 206
    },
    "id": "91585122-1466-4c76-b163-da4864666286",
    "outputId": "211b6f41-ddfa-42cd-9329-e9f98deb924c"
   },
   "outputs": [
    {
     "data": {
      "application/vnd.google.colaboratory.intrinsic+json": {
       "summary": "{\n  \"name\": \"dataset\",\n  \"rows\": 1324,\n  \"fields\": [\n    {\n      \"column\": \"Text\",\n      \"properties\": {\n        \"dtype\": \"string\",\n        \"num_unique_values\": 1180,\n        \"samples\": [\n          \"\\u0625\\u0642\\u0627\\u0645\\u0629 \\u0645\\u0631\\u064a\\u062d\\u0629 \\u0644\\u0644\\u063a\\u0627\\u064a\\u0629\",\n          \"\\u0643\\u0627\\u0646\\u062a \\u062a\\u062c\\u0631\\u0628\\u0629 \\u0631\\u0627\\u0626\\u0639\\u0629 \\u0642\\u0627\\u0628\\u0644\\u0629 \\u0644\\u0644\\u0623\\u0639\\u0627\\u062f\\u0629 \\u0628\\u0623\\u0630\\u0646 \\u0627\\u0644\\u0644\\u0647\",\n          \"\\u0627\\u0642\\u0627\\u0645\\u0647 \\u062c\\u0645\\u064a\\u0644\\u0647 \\u0648\\u0645\\u0631\\u064a\\u062d\\u0647 \\u0648\\u062e\\u062f\\u0645\\u0627\\u062a \\u0631\\u0627\\u0626\\u0639\\u0647\"\n        ],\n        \"semantic_type\": \"\",\n        \"description\": \"\"\n      }\n    },\n    {\n      \"column\": \"Score\",\n      \"properties\": {\n        \"dtype\": \"category\",\n        \"num_unique_values\": 10,\n        \"samples\": [\n          \"2,0\",\n          \"9,0\",\n          \"4,0\"\n        ],\n        \"semantic_type\": \"\",\n        \"description\": \"\"\n      }\n    }\n  ]\n}",
       "type": "dataframe",
       "variable_name": "dataset"
      },
      "text/html": [
       "\n",
       "  <div id=\"df-7d57f114-423a-416e-91c7-aad206bba1f0\" class=\"colab-df-container\">\n",
       "    <div>\n",
       "<style scoped>\n",
       "    .dataframe tbody tr th:only-of-type {\n",
       "        vertical-align: middle;\n",
       "    }\n",
       "\n",
       "    .dataframe tbody tr th {\n",
       "        vertical-align: top;\n",
       "    }\n",
       "\n",
       "    .dataframe thead th {\n",
       "        text-align: right;\n",
       "    }\n",
       "</style>\n",
       "<table border=\"1\" class=\"dataframe\">\n",
       "  <thead>\n",
       "    <tr style=\"text-align: right;\">\n",
       "      <th></th>\n",
       "      <th>Text</th>\n",
       "      <th>Score</th>\n",
       "    </tr>\n",
       "  </thead>\n",
       "  <tbody>\n",
       "    <tr>\n",
       "      <th>0</th>\n",
       "      <td>الموظفه الاستقبال جدا رائعه سمر خاص ريم الشمري</td>\n",
       "      <td>8,0</td>\n",
       "    </tr>\n",
       "    <tr>\n",
       "      <th>1</th>\n",
       "      <td>فندق ممتاز ونظيف وموقعه ويوجد مواقف لسيارتك يت...</td>\n",
       "      <td>9,0</td>\n",
       "    </tr>\n",
       "    <tr>\n",
       "      <th>2</th>\n",
       "      <td>شكرا</td>\n",
       "      <td>8,0</td>\n",
       "    </tr>\n",
       "    <tr>\n",
       "      <th>3</th>\n",
       "      <td>المكان جميل للاقامه</td>\n",
       "      <td>8,0</td>\n",
       "    </tr>\n",
       "    <tr>\n",
       "      <th>4</th>\n",
       "      <td>جيده ومريحه نظيفه الفرش والمرتبه والوسادات مري...</td>\n",
       "      <td>9,0</td>\n",
       "    </tr>\n",
       "  </tbody>\n",
       "</table>\n",
       "</div>\n",
       "    <div class=\"colab-df-buttons\">\n",
       "\n",
       "  <div class=\"colab-df-container\">\n",
       "    <button class=\"colab-df-convert\" onclick=\"convertToInteractive('df-7d57f114-423a-416e-91c7-aad206bba1f0')\"\n",
       "            title=\"Convert this dataframe to an interactive table.\"\n",
       "            style=\"display:none;\">\n",
       "\n",
       "  <svg xmlns=\"http://www.w3.org/2000/svg\" height=\"24px\" viewBox=\"0 -960 960 960\">\n",
       "    <path d=\"M120-120v-720h720v720H120Zm60-500h600v-160H180v160Zm220 220h160v-160H400v160Zm0 220h160v-160H400v160ZM180-400h160v-160H180v160Zm440 0h160v-160H620v160ZM180-180h160v-160H180v160Zm440 0h160v-160H620v160Z\"/>\n",
       "  </svg>\n",
       "    </button>\n",
       "\n",
       "  <style>\n",
       "    .colab-df-container {\n",
       "      display:flex;\n",
       "      gap: 12px;\n",
       "    }\n",
       "\n",
       "    .colab-df-convert {\n",
       "      background-color: #E8F0FE;\n",
       "      border: none;\n",
       "      border-radius: 50%;\n",
       "      cursor: pointer;\n",
       "      display: none;\n",
       "      fill: #1967D2;\n",
       "      height: 32px;\n",
       "      padding: 0 0 0 0;\n",
       "      width: 32px;\n",
       "    }\n",
       "\n",
       "    .colab-df-convert:hover {\n",
       "      background-color: #E2EBFA;\n",
       "      box-shadow: 0px 1px 2px rgba(60, 64, 67, 0.3), 0px 1px 3px 1px rgba(60, 64, 67, 0.15);\n",
       "      fill: #174EA6;\n",
       "    }\n",
       "\n",
       "    .colab-df-buttons div {\n",
       "      margin-bottom: 4px;\n",
       "    }\n",
       "\n",
       "    [theme=dark] .colab-df-convert {\n",
       "      background-color: #3B4455;\n",
       "      fill: #D2E3FC;\n",
       "    }\n",
       "\n",
       "    [theme=dark] .colab-df-convert:hover {\n",
       "      background-color: #434B5C;\n",
       "      box-shadow: 0px 1px 3px 1px rgba(0, 0, 0, 0.15);\n",
       "      filter: drop-shadow(0px 1px 2px rgba(0, 0, 0, 0.3));\n",
       "      fill: #FFFFFF;\n",
       "    }\n",
       "  </style>\n",
       "\n",
       "    <script>\n",
       "      const buttonEl =\n",
       "        document.querySelector('#df-7d57f114-423a-416e-91c7-aad206bba1f0 button.colab-df-convert');\n",
       "      buttonEl.style.display =\n",
       "        google.colab.kernel.accessAllowed ? 'block' : 'none';\n",
       "\n",
       "      async function convertToInteractive(key) {\n",
       "        const element = document.querySelector('#df-7d57f114-423a-416e-91c7-aad206bba1f0');\n",
       "        const dataTable =\n",
       "          await google.colab.kernel.invokeFunction('convertToInteractive',\n",
       "                                                    [key], {});\n",
       "        if (!dataTable) return;\n",
       "\n",
       "        const docLinkHtml = 'Like what you see? Visit the ' +\n",
       "          '<a target=\"_blank\" href=https://colab.research.google.com/notebooks/data_table.ipynb>data table notebook</a>'\n",
       "          + ' to learn more about interactive tables.';\n",
       "        element.innerHTML = '';\n",
       "        dataTable['output_type'] = 'display_data';\n",
       "        await google.colab.output.renderOutput(dataTable, element);\n",
       "        const docLink = document.createElement('div');\n",
       "        docLink.innerHTML = docLinkHtml;\n",
       "        element.appendChild(docLink);\n",
       "      }\n",
       "    </script>\n",
       "  </div>\n",
       "\n",
       "\n",
       "<div id=\"df-98fac4eb-055a-4acd-8428-65e53cf04fc1\">\n",
       "  <button class=\"colab-df-quickchart\" onclick=\"quickchart('df-98fac4eb-055a-4acd-8428-65e53cf04fc1')\"\n",
       "            title=\"Suggest charts\"\n",
       "            style=\"display:none;\">\n",
       "\n",
       "<svg xmlns=\"http://www.w3.org/2000/svg\" height=\"24px\"viewBox=\"0 0 24 24\"\n",
       "     width=\"24px\">\n",
       "    <g>\n",
       "        <path d=\"M19 3H5c-1.1 0-2 .9-2 2v14c0 1.1.9 2 2 2h14c1.1 0 2-.9 2-2V5c0-1.1-.9-2-2-2zM9 17H7v-7h2v7zm4 0h-2V7h2v10zm4 0h-2v-4h2v4z\"/>\n",
       "    </g>\n",
       "</svg>\n",
       "  </button>\n",
       "\n",
       "<style>\n",
       "  .colab-df-quickchart {\n",
       "      --bg-color: #E8F0FE;\n",
       "      --fill-color: #1967D2;\n",
       "      --hover-bg-color: #E2EBFA;\n",
       "      --hover-fill-color: #174EA6;\n",
       "      --disabled-fill-color: #AAA;\n",
       "      --disabled-bg-color: #DDD;\n",
       "  }\n",
       "\n",
       "  [theme=dark] .colab-df-quickchart {\n",
       "      --bg-color: #3B4455;\n",
       "      --fill-color: #D2E3FC;\n",
       "      --hover-bg-color: #434B5C;\n",
       "      --hover-fill-color: #FFFFFF;\n",
       "      --disabled-bg-color: #3B4455;\n",
       "      --disabled-fill-color: #666;\n",
       "  }\n",
       "\n",
       "  .colab-df-quickchart {\n",
       "    background-color: var(--bg-color);\n",
       "    border: none;\n",
       "    border-radius: 50%;\n",
       "    cursor: pointer;\n",
       "    display: none;\n",
       "    fill: var(--fill-color);\n",
       "    height: 32px;\n",
       "    padding: 0;\n",
       "    width: 32px;\n",
       "  }\n",
       "\n",
       "  .colab-df-quickchart:hover {\n",
       "    background-color: var(--hover-bg-color);\n",
       "    box-shadow: 0 1px 2px rgba(60, 64, 67, 0.3), 0 1px 3px 1px rgba(60, 64, 67, 0.15);\n",
       "    fill: var(--button-hover-fill-color);\n",
       "  }\n",
       "\n",
       "  .colab-df-quickchart-complete:disabled,\n",
       "  .colab-df-quickchart-complete:disabled:hover {\n",
       "    background-color: var(--disabled-bg-color);\n",
       "    fill: var(--disabled-fill-color);\n",
       "    box-shadow: none;\n",
       "  }\n",
       "\n",
       "  .colab-df-spinner {\n",
       "    border: 2px solid var(--fill-color);\n",
       "    border-color: transparent;\n",
       "    border-bottom-color: var(--fill-color);\n",
       "    animation:\n",
       "      spin 1s steps(1) infinite;\n",
       "  }\n",
       "\n",
       "  @keyframes spin {\n",
       "    0% {\n",
       "      border-color: transparent;\n",
       "      border-bottom-color: var(--fill-color);\n",
       "      border-left-color: var(--fill-color);\n",
       "    }\n",
       "    20% {\n",
       "      border-color: transparent;\n",
       "      border-left-color: var(--fill-color);\n",
       "      border-top-color: var(--fill-color);\n",
       "    }\n",
       "    30% {\n",
       "      border-color: transparent;\n",
       "      border-left-color: var(--fill-color);\n",
       "      border-top-color: var(--fill-color);\n",
       "      border-right-color: var(--fill-color);\n",
       "    }\n",
       "    40% {\n",
       "      border-color: transparent;\n",
       "      border-right-color: var(--fill-color);\n",
       "      border-top-color: var(--fill-color);\n",
       "    }\n",
       "    60% {\n",
       "      border-color: transparent;\n",
       "      border-right-color: var(--fill-color);\n",
       "    }\n",
       "    80% {\n",
       "      border-color: transparent;\n",
       "      border-right-color: var(--fill-color);\n",
       "      border-bottom-color: var(--fill-color);\n",
       "    }\n",
       "    90% {\n",
       "      border-color: transparent;\n",
       "      border-bottom-color: var(--fill-color);\n",
       "    }\n",
       "  }\n",
       "</style>\n",
       "\n",
       "  <script>\n",
       "    async function quickchart(key) {\n",
       "      const quickchartButtonEl =\n",
       "        document.querySelector('#' + key + ' button');\n",
       "      quickchartButtonEl.disabled = true;  // To prevent multiple clicks.\n",
       "      quickchartButtonEl.classList.add('colab-df-spinner');\n",
       "      try {\n",
       "        const charts = await google.colab.kernel.invokeFunction(\n",
       "            'suggestCharts', [key], {});\n",
       "      } catch (error) {\n",
       "        console.error('Error during call to suggestCharts:', error);\n",
       "      }\n",
       "      quickchartButtonEl.classList.remove('colab-df-spinner');\n",
       "      quickchartButtonEl.classList.add('colab-df-quickchart-complete');\n",
       "    }\n",
       "    (() => {\n",
       "      let quickchartButtonEl =\n",
       "        document.querySelector('#df-98fac4eb-055a-4acd-8428-65e53cf04fc1 button');\n",
       "      quickchartButtonEl.style.display =\n",
       "        google.colab.kernel.accessAllowed ? 'block' : 'none';\n",
       "    })();\n",
       "  </script>\n",
       "</div>\n",
       "    </div>\n",
       "  </div>\n"
      ],
      "text/plain": [
       "                                                Text Score\n",
       "0     الموظفه الاستقبال جدا رائعه سمر خاص ريم الشمري   8,0\n",
       "1  فندق ممتاز ونظيف وموقعه ويوجد مواقف لسيارتك يت...   9,0\n",
       "2                                               شكرا   8,0\n",
       "3                                المكان جميل للاقامه   8,0\n",
       "4  جيده ومريحه نظيفه الفرش والمرتبه والوسادات مري...   9,0"
      ]
     },
     "execution_count": 15,
     "metadata": {},
     "output_type": "execute_result"
    }
   ],
   "source": [
    "dataset.head()"
   ]
  },
  {
   "cell_type": "code",
   "execution_count": 16,
   "id": "163fdf5d-b860-42a2-9570-d075993f2210",
   "metadata": {
    "colab": {
     "base_uri": "https://localhost:8080/"
    },
    "id": "163fdf5d-b860-42a2-9570-d075993f2210",
    "outputId": "e65a3d50-87b8-4f1b-cfd2-713de44c03f4"
   },
   "outputs": [
    {
     "data": {
      "text/plain": [
       "(1324, 2)"
      ]
     },
     "execution_count": 16,
     "metadata": {},
     "output_type": "execute_result"
    }
   ],
   "source": [
    "dataset.shape"
   ]
  },
  {
   "cell_type": "markdown",
   "id": "5eb4eb7b-da21-4336-88ad-4745c5e67fa0",
   "metadata": {
    "id": "5eb4eb7b-da21-4336-88ad-4745c5e67fa0"
   },
   "source": [
    "# Model trining"
   ]
  },
  {
   "cell_type": "code",
   "execution_count": 17,
   "id": "ea0a4e0b-5e03-4970-8497-9923cc566f52",
   "metadata": {
    "id": "ea0a4e0b-5e03-4970-8497-9923cc566f52"
   },
   "outputs": [],
   "source": [
    "from keras.preprocessing.text import Tokenizer\n",
    "from keras.preprocessing.sequence import pad_sequences\n",
    "from keras.models import Sequential\n",
    "from keras.layers import Embedding, LSTM, GRU, Bidirectional, Dense\n",
    "from sklearn.model_selection import train_test_split"
   ]
  },
  {
   "cell_type": "code",
   "execution_count": 27,
   "id": "3527a89e-3950-4cdf-883b-db1508ee4170",
   "metadata": {
    "id": "3527a89e-3950-4cdf-883b-db1508ee4170"
   },
   "outputs": [],
   "source": [
    "texts = dataset['Text'].tolist()\n",
    "scores = dataset['Score'].tolist()"
   ]
  },
  {
   "cell_type": "code",
   "execution_count": 28,
   "id": "4J2EJYHV0JfH",
   "metadata": {
    "id": "4J2EJYHV0JfH"
   },
   "outputs": [],
   "source": [
    "from sklearn.preprocessing import LabelEncoder\n",
    "lb=LabelEncoder()\n",
    "scores=lb.fit_transform(scores)"
   ]
  },
  {
   "cell_type": "code",
   "execution_count": 29,
   "id": "9deff0a2-8c95-4b53-abc8-559333b79243",
   "metadata": {
    "id": "9deff0a2-8c95-4b53-abc8-559333b79243"
   },
   "outputs": [],
   "source": [
    "tokenizer = Tokenizer()\n",
    "tokenizer.fit_on_texts(texts)\n",
    "vocab_size = len(tokenizer.word_index) + 1\n",
    "sequences = tokenizer.texts_to_sequences(texts)"
   ]
  },
  {
   "cell_type": "code",
   "execution_count": 30,
   "id": "c8d14364-324c-4201-88bc-f575386a26b6",
   "metadata": {
    "id": "c8d14364-324c-4201-88bc-f575386a26b6"
   },
   "outputs": [],
   "source": [
    "max_length = max(len(seq) for seq in sequences)\n",
    "padded_sequences = pad_sequences(sequences, maxlen=max_length, padding='post')\n",
    "# scores=np.array(scores)"
   ]
  },
  {
   "cell_type": "code",
   "execution_count": 31,
   "id": "69f63ba8-eaa3-4599-bb6d-1865e3c642a5",
   "metadata": {
    "id": "69f63ba8-eaa3-4599-bb6d-1865e3c642a5"
   },
   "outputs": [],
   "source": [
    "X_train, X_test, y_train, y_test = train_test_split(padded_sequences, scores, test_size=0.2, random_state=42)\n"
   ]
  },
  {
   "cell_type": "code",
   "execution_count": 32,
   "id": "c5c19d2c-f11e-4999-8b0f-4c82b94263a2",
   "metadata": {
    "id": "c5c19d2c-f11e-4999-8b0f-4c82b94263a2"
   },
   "outputs": [],
   "source": [
    "def create_model(architecture):\n",
    "    model = Sequential()\n",
    "    model.add(Embedding(vocab_size, 100, input_length=max_length))\n",
    "    if architecture == 'RNN':\n",
    "        model.add(LSTM(64, dropout=0.2))\n",
    "    elif architecture == 'Bidirectional_RNN':\n",
    "        model.add(Bidirectional(LSTM(64, dropout=0.2)))\n",
    "    elif architecture == 'GRU':\n",
    "        model.add(GRU(64, dropout=0.2))\n",
    "    elif architecture == 'LSTM':\n",
    "        model.add(LSTM(64, dropout=0.2))\n",
    "    model.add(Dense(1, activation='linear'))\n",
    "    return model"
   ]
  },
  {
   "cell_type": "code",
   "execution_count": 33,
   "id": "d557e876-ca24-4cb7-8792-74e8d4939a42",
   "metadata": {
    "colab": {
     "base_uri": "https://localhost:8080/"
    },
    "id": "d557e876-ca24-4cb7-8792-74e8d4939a42",
    "outputId": "31f99413-9412-465e-835e-fbb4b51b024a"
   },
   "outputs": [
    {
     "name": "stdout",
     "output_type": "stream",
     "text": [
      "Training RNN model...\n",
      "Epoch 1/10\n",
      "34/34 [==============================] - 10s 159ms/step - loss: 14.5241 - mae: 3.0644 - val_loss: 10.4599 - val_mae: 2.9664\n",
      "Epoch 2/10\n",
      "34/34 [==============================] - 3s 84ms/step - loss: 10.7421 - mae: 2.9982 - val_loss: 10.4885 - val_mae: 3.0076\n",
      "Epoch 3/10\n",
      "34/34 [==============================] - 2s 63ms/step - loss: 10.3710 - mae: 2.9329 - val_loss: 10.5563 - val_mae: 2.9783\n",
      "Epoch 4/10\n",
      "34/34 [==============================] - 1s 31ms/step - loss: 9.0504 - mae: 2.6138 - val_loss: 11.1808 - val_mae: 2.9003\n",
      "Epoch 5/10\n",
      "34/34 [==============================] - 1s 30ms/step - loss: 5.8013 - mae: 1.8179 - val_loss: 14.5179 - val_mae: 3.2151\n",
      "Epoch 6/10\n",
      "34/34 [==============================] - 1s 25ms/step - loss: 4.3973 - mae: 1.5226 - val_loss: 13.1744 - val_mae: 3.0181\n",
      "Epoch 7/10\n",
      "34/34 [==============================] - 1s 22ms/step - loss: 4.0313 - mae: 1.4317 - val_loss: 14.8006 - val_mae: 3.1500\n",
      "Epoch 8/10\n",
      "34/34 [==============================] - 1s 38ms/step - loss: 3.3678 - mae: 1.2565 - val_loss: 13.5675 - val_mae: 2.9768\n",
      "Epoch 9/10\n",
      "34/34 [==============================] - 1s 35ms/step - loss: 3.0928 - mae: 1.1929 - val_loss: 13.8262 - val_mae: 3.0120\n",
      "Epoch 10/10\n",
      "34/34 [==============================] - 1s 15ms/step - loss: 3.0034 - mae: 1.1822 - val_loss: 13.7563 - val_mae: 2.9366\n",
      "RNN model - Test Loss: 13.75632095336914, Test MAE: 2.9366302490234375\n",
      "Training Bidirectional_RNN model...\n",
      "Epoch 1/10\n",
      "34/34 [==============================] - 7s 108ms/step - loss: 15.8449 - mae: 3.2173 - val_loss: 10.8313 - val_mae: 2.8129\n",
      "Epoch 2/10\n",
      "34/34 [==============================] - 3s 81ms/step - loss: 10.8617 - mae: 2.9933 - val_loss: 10.3374 - val_mae: 2.9758\n",
      "Epoch 3/10\n",
      "34/34 [==============================] - 2s 42ms/step - loss: 10.3357 - mae: 2.9225 - val_loss: 10.4489 - val_mae: 3.0084\n",
      "Epoch 4/10\n",
      "34/34 [==============================] - 1s 34ms/step - loss: 8.8268 - mae: 2.5830 - val_loss: 13.3864 - val_mae: 3.0853\n",
      "Epoch 5/10\n",
      "34/34 [==============================] - 1s 21ms/step - loss: 6.1042 - mae: 1.8626 - val_loss: 11.6429 - val_mae: 2.7201\n",
      "Epoch 6/10\n",
      "34/34 [==============================] - 1s 40ms/step - loss: 4.6553 - mae: 1.5389 - val_loss: 11.6939 - val_mae: 2.8779\n",
      "Epoch 7/10\n",
      "34/34 [==============================] - 1s 29ms/step - loss: 4.0826 - mae: 1.4568 - val_loss: 12.8406 - val_mae: 2.8785\n",
      "Epoch 8/10\n",
      "34/34 [==============================] - 1s 18ms/step - loss: 3.4432 - mae: 1.3151 - val_loss: 12.6171 - val_mae: 2.7996\n",
      "Epoch 9/10\n",
      "34/34 [==============================] - 0s 14ms/step - loss: 3.1771 - mae: 1.1965 - val_loss: 12.9987 - val_mae: 2.8777\n",
      "Epoch 10/10\n",
      "34/34 [==============================] - 1s 18ms/step - loss: 3.1882 - mae: 1.1767 - val_loss: 12.4060 - val_mae: 2.7521\n",
      "Bidirectional_RNN model - Test Loss: 12.40603256225586, Test MAE: 2.7521228790283203\n",
      "Training GRU model...\n",
      "Epoch 1/10\n",
      "34/34 [==============================] - 5s 94ms/step - loss: 16.8454 - mae: 3.1747 - val_loss: 10.5029 - val_mae: 2.9780\n",
      "Epoch 2/10\n",
      "34/34 [==============================] - 1s 35ms/step - loss: 10.8377 - mae: 3.0194 - val_loss: 10.5203 - val_mae: 2.9906\n",
      "Epoch 3/10\n",
      "34/34 [==============================] - 1s 40ms/step - loss: 10.8065 - mae: 3.0147 - val_loss: 10.6915 - val_mae: 3.0352\n",
      "Epoch 4/10\n",
      "34/34 [==============================] - 2s 49ms/step - loss: 10.5019 - mae: 2.9643 - val_loss: 10.5499 - val_mae: 2.9939\n",
      "Epoch 5/10\n",
      "34/34 [==============================] - 0s 8ms/step - loss: 9.6719 - mae: 2.8043 - val_loss: 10.4984 - val_mae: 2.9423\n",
      "Epoch 6/10\n",
      "34/34 [==============================] - 1s 24ms/step - loss: 6.3548 - mae: 1.9625 - val_loss: 11.2464 - val_mae: 2.7660\n",
      "Epoch 7/10\n",
      "34/34 [==============================] - 1s 29ms/step - loss: 4.5990 - mae: 1.5881 - val_loss: 11.8590 - val_mae: 2.8024\n",
      "Epoch 8/10\n",
      "34/34 [==============================] - 0s 13ms/step - loss: 3.8904 - mae: 1.3947 - val_loss: 13.3679 - val_mae: 3.0446\n",
      "Epoch 9/10\n",
      "34/34 [==============================] - 1s 23ms/step - loss: 3.6321 - mae: 1.3563 - val_loss: 15.1747 - val_mae: 2.9820\n",
      "Epoch 10/10\n",
      "34/34 [==============================] - 0s 12ms/step - loss: 3.1872 - mae: 1.2221 - val_loss: 13.5859 - val_mae: 2.9513\n",
      "GRU model - Test Loss: 13.585870742797852, Test MAE: 2.951277256011963\n",
      "Training LSTM model...\n",
      "Epoch 1/10\n",
      "34/34 [==============================] - 6s 112ms/step - loss: 15.6622 - mae: 3.1794 - val_loss: 10.4977 - val_mae: 2.8945\n",
      "Epoch 2/10\n",
      "34/34 [==============================] - 2s 60ms/step - loss: 10.7649 - mae: 2.9578 - val_loss: 10.7997 - val_mae: 3.0925\n",
      "Epoch 3/10\n",
      "34/34 [==============================] - 1s 37ms/step - loss: 10.6073 - mae: 2.9781 - val_loss: 10.6367 - val_mae: 3.0028\n",
      "Epoch 4/10\n",
      "34/34 [==============================] - 1s 30ms/step - loss: 9.3888 - mae: 2.7034 - val_loss: 10.6727 - val_mae: 2.8367\n",
      "Epoch 5/10\n",
      "34/34 [==============================] - 1s 24ms/step - loss: 6.2292 - mae: 1.9140 - val_loss: 13.1081 - val_mae: 3.0743\n",
      "Epoch 6/10\n",
      "34/34 [==============================] - 1s 19ms/step - loss: 4.6555 - mae: 1.5798 - val_loss: 13.0265 - val_mae: 3.0012\n",
      "Epoch 7/10\n",
      "34/34 [==============================] - 1s 27ms/step - loss: 3.8623 - mae: 1.3875 - val_loss: 12.8147 - val_mae: 2.8617\n",
      "Epoch 8/10\n",
      "34/34 [==============================] - 1s 22ms/step - loss: 3.3148 - mae: 1.2557 - val_loss: 13.3469 - val_mae: 3.0114\n",
      "Epoch 9/10\n",
      "34/34 [==============================] - 0s 15ms/step - loss: 3.2728 - mae: 1.2193 - val_loss: 14.2809 - val_mae: 3.0954\n",
      "Epoch 10/10\n",
      "34/34 [==============================] - 1s 16ms/step - loss: 3.3260 - mae: 1.2332 - val_loss: 13.8189 - val_mae: 3.0330\n",
      "LSTM model - Test Loss: 13.818910598754883, Test MAE: 3.0330007076263428\n"
     ]
    }
   ],
   "source": [
    "# Train and evaluate models\n",
    "architectures = ['RNN', 'Bidirectional_RNN', 'GRU', 'LSTM']\n",
    "for architecture in architectures:\n",
    "    model = create_model(architecture)\n",
    "    model.compile(optimizer='adam', loss='mse', metrics=['mae'])\n",
    "    print(f\"Training {architecture} model...\")\n",
    "    model.fit(X_train, y_train, epochs=10, batch_size=32, validation_data=(X_test, y_test), verbose=1)\n",
    "    loss, mae = model.evaluate(X_test, y_test, verbose=0)\n",
    "    print(f\"{architecture} model - Test Loss: {loss}, Test MAE: {mae}\")"
   ]
  },
  {
   "cell_type": "code",
   "execution_count": null,
   "id": "eb9f005f-c98f-46d9-9282-a7c0d93c8231",
   "metadata": {
    "id": "eb9f005f-c98f-46d9-9282-a7c0d93c8231"
   },
   "outputs": [],
   "source": []
  }
 ],
 "metadata": {
  "accelerator": "GPU",
  "colab": {
   "gpuType": "T4",
   "provenance": []
  },
  "kernelspec": {
   "display_name": "Python 3 (ipykernel)",
   "language": "python",
   "name": "python3"
  },
  "language_info": {
   "codemirror_mode": {
    "name": "ipython",
    "version": 3
   },
   "file_extension": ".py",
   "mimetype": "text/x-python",
   "name": "python",
   "nbconvert_exporter": "python",
   "pygments_lexer": "ipython3",
   "version": "3.12.1"
  }
 },
 "nbformat": 4,
 "nbformat_minor": 5
}
